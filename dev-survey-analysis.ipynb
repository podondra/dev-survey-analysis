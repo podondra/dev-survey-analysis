{
 "cells": [
  {
   "cell_type": "markdown",
   "metadata": {},
   "source": [
    "# Stack Overflow Annual Developer Survey 2017"
   ]
  },
  {
   "cell_type": "code",
   "execution_count": 1,
   "metadata": {},
   "outputs": [],
   "source": [
    "import pandas\n",
    "import matplotlib\n",
    "import numpy"
   ]
  },
  {
   "cell_type": "code",
   "execution_count": 2,
   "metadata": {},
   "outputs": [],
   "source": [
    "%matplotlib inline"
   ]
  },
  {
   "cell_type": "code",
   "execution_count": 3,
   "metadata": {
    "scrolled": false
   },
   "outputs": [
    {
     "name": "stdout",
     "output_type": "stream",
     "text": [
      "<class 'pandas.core.frame.DataFrame'>\n",
      "Int64Index: 51392 entries, 1 to 51392\n",
      "Columns: 153 entries, Professional to ExpectedSalary\n",
      "dtypes: float64(6), object(147)\n",
      "memory usage: 60.4+ MB\n"
     ]
    },
    {
     "data": {
      "text/html": [
       "<div>\n",
       "<style>\n",
       "    .dataframe thead tr:only-child th {\n",
       "        text-align: right;\n",
       "    }\n",
       "\n",
       "    .dataframe thead th {\n",
       "        text-align: left;\n",
       "    }\n",
       "\n",
       "    .dataframe tbody tr th {\n",
       "        vertical-align: top;\n",
       "    }\n",
       "</style>\n",
       "<table border=\"1\" class=\"dataframe\">\n",
       "  <thead>\n",
       "    <tr style=\"text-align: right;\">\n",
       "      <th></th>\n",
       "      <th>Professional</th>\n",
       "      <th>ProgramHobby</th>\n",
       "      <th>Country</th>\n",
       "      <th>University</th>\n",
       "      <th>EmploymentStatus</th>\n",
       "      <th>FormalEducation</th>\n",
       "      <th>MajorUndergrad</th>\n",
       "      <th>HomeRemote</th>\n",
       "      <th>CompanySize</th>\n",
       "      <th>CompanyType</th>\n",
       "      <th>...</th>\n",
       "      <th>StackOverflowMakeMoney</th>\n",
       "      <th>Gender</th>\n",
       "      <th>HighestEducationParents</th>\n",
       "      <th>Race</th>\n",
       "      <th>SurveyLong</th>\n",
       "      <th>QuestionsInteresting</th>\n",
       "      <th>QuestionsConfusing</th>\n",
       "      <th>InterestedAnswers</th>\n",
       "      <th>Salary</th>\n",
       "      <th>ExpectedSalary</th>\n",
       "    </tr>\n",
       "    <tr>\n",
       "      <th>Respondent</th>\n",
       "      <th></th>\n",
       "      <th></th>\n",
       "      <th></th>\n",
       "      <th></th>\n",
       "      <th></th>\n",
       "      <th></th>\n",
       "      <th></th>\n",
       "      <th></th>\n",
       "      <th></th>\n",
       "      <th></th>\n",
       "      <th></th>\n",
       "      <th></th>\n",
       "      <th></th>\n",
       "      <th></th>\n",
       "      <th></th>\n",
       "      <th></th>\n",
       "      <th></th>\n",
       "      <th></th>\n",
       "      <th></th>\n",
       "      <th></th>\n",
       "      <th></th>\n",
       "    </tr>\n",
       "  </thead>\n",
       "  <tbody>\n",
       "    <tr>\n",
       "      <th>1</th>\n",
       "      <td>Student</td>\n",
       "      <td>Yes, both</td>\n",
       "      <td>United States</td>\n",
       "      <td>No</td>\n",
       "      <td>Not employed, and not looking for work</td>\n",
       "      <td>Secondary school</td>\n",
       "      <td>NaN</td>\n",
       "      <td>NaN</td>\n",
       "      <td>NaN</td>\n",
       "      <td>NaN</td>\n",
       "      <td>...</td>\n",
       "      <td>Strongly disagree</td>\n",
       "      <td>Male</td>\n",
       "      <td>High school</td>\n",
       "      <td>White or of European descent</td>\n",
       "      <td>Strongly disagree</td>\n",
       "      <td>Strongly agree</td>\n",
       "      <td>Disagree</td>\n",
       "      <td>Strongly agree</td>\n",
       "      <td>NaN</td>\n",
       "      <td>NaN</td>\n",
       "    </tr>\n",
       "    <tr>\n",
       "      <th>2</th>\n",
       "      <td>Student</td>\n",
       "      <td>Yes, both</td>\n",
       "      <td>United Kingdom</td>\n",
       "      <td>Yes, full-time</td>\n",
       "      <td>Employed part-time</td>\n",
       "      <td>Some college/university study without earning ...</td>\n",
       "      <td>Computer science or software engineering</td>\n",
       "      <td>More than half, but not all, the time</td>\n",
       "      <td>20 to 99 employees</td>\n",
       "      <td>Privately-held limited company, not in startup...</td>\n",
       "      <td>...</td>\n",
       "      <td>Strongly disagree</td>\n",
       "      <td>Male</td>\n",
       "      <td>A master's degree</td>\n",
       "      <td>White or of European descent</td>\n",
       "      <td>Somewhat agree</td>\n",
       "      <td>Somewhat agree</td>\n",
       "      <td>Disagree</td>\n",
       "      <td>Strongly agree</td>\n",
       "      <td>NaN</td>\n",
       "      <td>37500.0</td>\n",
       "    </tr>\n",
       "    <tr>\n",
       "      <th>3</th>\n",
       "      <td>Professional developer</td>\n",
       "      <td>Yes, both</td>\n",
       "      <td>United Kingdom</td>\n",
       "      <td>No</td>\n",
       "      <td>Employed full-time</td>\n",
       "      <td>Bachelor's degree</td>\n",
       "      <td>Computer science or software engineering</td>\n",
       "      <td>Less than half the time, but at least one day ...</td>\n",
       "      <td>10,000 or more employees</td>\n",
       "      <td>Publicly-traded corporation</td>\n",
       "      <td>...</td>\n",
       "      <td>Disagree</td>\n",
       "      <td>Male</td>\n",
       "      <td>A professional degree</td>\n",
       "      <td>White or of European descent</td>\n",
       "      <td>Somewhat agree</td>\n",
       "      <td>Agree</td>\n",
       "      <td>Disagree</td>\n",
       "      <td>Agree</td>\n",
       "      <td>113750.0</td>\n",
       "      <td>NaN</td>\n",
       "    </tr>\n",
       "    <tr>\n",
       "      <th>4</th>\n",
       "      <td>Professional non-developer who sometimes write...</td>\n",
       "      <td>Yes, both</td>\n",
       "      <td>United States</td>\n",
       "      <td>No</td>\n",
       "      <td>Employed full-time</td>\n",
       "      <td>Doctoral degree</td>\n",
       "      <td>A non-computer-focused engineering discipline</td>\n",
       "      <td>Less than half the time, but at least one day ...</td>\n",
       "      <td>10,000 or more employees</td>\n",
       "      <td>Non-profit/non-governmental organization or pr...</td>\n",
       "      <td>...</td>\n",
       "      <td>Disagree</td>\n",
       "      <td>Male</td>\n",
       "      <td>A doctoral degree</td>\n",
       "      <td>White or of European descent</td>\n",
       "      <td>Agree</td>\n",
       "      <td>Agree</td>\n",
       "      <td>Somewhat agree</td>\n",
       "      <td>Strongly agree</td>\n",
       "      <td>NaN</td>\n",
       "      <td>NaN</td>\n",
       "    </tr>\n",
       "    <tr>\n",
       "      <th>5</th>\n",
       "      <td>Professional developer</td>\n",
       "      <td>Yes, I program as a hobby</td>\n",
       "      <td>Switzerland</td>\n",
       "      <td>No</td>\n",
       "      <td>Employed full-time</td>\n",
       "      <td>Master's degree</td>\n",
       "      <td>Computer science or software engineering</td>\n",
       "      <td>Never</td>\n",
       "      <td>10 to 19 employees</td>\n",
       "      <td>Privately-held limited company, not in startup...</td>\n",
       "      <td>...</td>\n",
       "      <td>NaN</td>\n",
       "      <td>NaN</td>\n",
       "      <td>NaN</td>\n",
       "      <td>NaN</td>\n",
       "      <td>NaN</td>\n",
       "      <td>NaN</td>\n",
       "      <td>NaN</td>\n",
       "      <td>NaN</td>\n",
       "      <td>NaN</td>\n",
       "      <td>NaN</td>\n",
       "    </tr>\n",
       "  </tbody>\n",
       "</table>\n",
       "<p>5 rows × 153 columns</p>\n",
       "</div>"
      ],
      "text/plain": [
       "                                                 Professional  \\\n",
       "Respondent                                                      \n",
       "1                                                     Student   \n",
       "2                                                     Student   \n",
       "3                                      Professional developer   \n",
       "4           Professional non-developer who sometimes write...   \n",
       "5                                      Professional developer   \n",
       "\n",
       "                         ProgramHobby         Country      University  \\\n",
       "Respondent                                                              \n",
       "1                           Yes, both   United States              No   \n",
       "2                           Yes, both  United Kingdom  Yes, full-time   \n",
       "3                           Yes, both  United Kingdom              No   \n",
       "4                           Yes, both   United States              No   \n",
       "5           Yes, I program as a hobby     Switzerland              No   \n",
       "\n",
       "                                  EmploymentStatus  \\\n",
       "Respondent                                           \n",
       "1           Not employed, and not looking for work   \n",
       "2                               Employed part-time   \n",
       "3                               Employed full-time   \n",
       "4                               Employed full-time   \n",
       "5                               Employed full-time   \n",
       "\n",
       "                                              FormalEducation  \\\n",
       "Respondent                                                      \n",
       "1                                            Secondary school   \n",
       "2           Some college/university study without earning ...   \n",
       "3                                           Bachelor's degree   \n",
       "4                                             Doctoral degree   \n",
       "5                                             Master's degree   \n",
       "\n",
       "                                           MajorUndergrad  \\\n",
       "Respondent                                                  \n",
       "1                                                     NaN   \n",
       "2                Computer science or software engineering   \n",
       "3                Computer science or software engineering   \n",
       "4           A non-computer-focused engineering discipline   \n",
       "5                Computer science or software engineering   \n",
       "\n",
       "                                                   HomeRemote  \\\n",
       "Respondent                                                      \n",
       "1                                                         NaN   \n",
       "2                       More than half, but not all, the time   \n",
       "3           Less than half the time, but at least one day ...   \n",
       "4           Less than half the time, but at least one day ...   \n",
       "5                                                       Never   \n",
       "\n",
       "                         CompanySize  \\\n",
       "Respondent                             \n",
       "1                                NaN   \n",
       "2                 20 to 99 employees   \n",
       "3           10,000 or more employees   \n",
       "4           10,000 or more employees   \n",
       "5                 10 to 19 employees   \n",
       "\n",
       "                                                  CompanyType      ...        \\\n",
       "Respondent                                                         ...         \n",
       "1                                                         NaN      ...         \n",
       "2           Privately-held limited company, not in startup...      ...         \n",
       "3                                 Publicly-traded corporation      ...         \n",
       "4           Non-profit/non-governmental organization or pr...      ...         \n",
       "5           Privately-held limited company, not in startup...      ...         \n",
       "\n",
       "           StackOverflowMakeMoney Gender HighestEducationParents  \\\n",
       "Respondent                                                         \n",
       "1               Strongly disagree   Male             High school   \n",
       "2               Strongly disagree   Male       A master's degree   \n",
       "3                        Disagree   Male   A professional degree   \n",
       "4                        Disagree   Male       A doctoral degree   \n",
       "5                             NaN    NaN                     NaN   \n",
       "\n",
       "                                    Race         SurveyLong  \\\n",
       "Respondent                                                    \n",
       "1           White or of European descent  Strongly disagree   \n",
       "2           White or of European descent     Somewhat agree   \n",
       "3           White or of European descent     Somewhat agree   \n",
       "4           White or of European descent              Agree   \n",
       "5                                    NaN                NaN   \n",
       "\n",
       "           QuestionsInteresting QuestionsConfusing  InterestedAnswers  \\\n",
       "Respondent                                                              \n",
       "1                Strongly agree           Disagree     Strongly agree   \n",
       "2                Somewhat agree           Disagree     Strongly agree   \n",
       "3                         Agree           Disagree              Agree   \n",
       "4                         Agree     Somewhat agree     Strongly agree   \n",
       "5                           NaN                NaN                NaN   \n",
       "\n",
       "              Salary ExpectedSalary  \n",
       "Respondent                           \n",
       "1                NaN            NaN  \n",
       "2                NaN        37500.0  \n",
       "3           113750.0            NaN  \n",
       "4                NaN            NaN  \n",
       "5                NaN            NaN  \n",
       "\n",
       "[5 rows x 153 columns]"
      ]
     },
     "execution_count": 3,
     "metadata": {},
     "output_type": "execute_result"
    }
   ],
   "source": [
    "# first column is respondent id\n",
    "all_df = pandas.read_csv('data/survey_results_public.csv', index_col=0)\n",
    "all_df.info()\n",
    "# preview the data\n",
    "all_df.head()"
   ]
  },
  {
   "cell_type": "markdown",
   "metadata": {},
   "source": [
    "## Languages Split"
   ]
  },
  {
   "cell_type": "code",
   "execution_count": 4,
   "metadata": {},
   "outputs": [],
   "source": [
    "all_df['HaveWorkedLanguage'] = all_df['HaveWorkedLanguage'].str.split('; ')\n",
    "all_df['WantWorkLanguage'] = all_df['WantWorkLanguage'].str.split('; ')"
   ]
  },
  {
   "cell_type": "markdown",
   "metadata": {},
   "source": [
    "## Currency Conversion"
   ]
  },
  {
   "cell_type": "markdown",
   "metadata": {},
   "source": [
    "Assuming that the `NaN` in *Currency* column means dollars ($).\n",
    "The Stack Overflow Annual Developer Survey 2017\n",
    "[Methodology](https://insights.stackoverflow.com/survey/2017#methodology) states:\n",
    "\n",
    "> We converted salaries given in the 38 most-frequently-used currencies to [dollars / Euros / pounds sterling]\n",
    "> using the exchange rate that prevailed mid-way through the survey field period.\n",
    "\n",
    "Also the data on [survey result page](https://insights.stackoverflow.com/survey/2016) are in dollars."
   ]
  },
  {
   "cell_type": "code",
   "execution_count": 5,
   "metadata": {},
   "outputs": [
    {
     "data": {
      "text/plain": [
       "array([nan, 'British pounds sterling (£)', 'Canadian dollars (C$)',\n",
       "       'U.S. dollars ($)', 'Euros (€)', 'Brazilian reais (R$)',\n",
       "       'Indian rupees (?)', 'Polish zloty (zl)', 'Swedish kroner (SEK)',\n",
       "       'Russian rubles (?)', 'Swiss francs', 'Australian dollars (A$)',\n",
       "       'Mexican pesos (MXN$)', 'Japanese yen (¥)',\n",
       "       'Chinese yuan renminbi (¥)', 'Singapore dollars (S$)',\n",
       "       'Bitcoin (btc)', 'South African rands (R)'], dtype=object)"
      ]
     },
     "execution_count": 5,
     "metadata": {},
     "output_type": "execute_result"
    }
   ],
   "source": [
    "# different currencies\n",
    "all_df['Currency'].unique()"
   ]
  },
  {
   "cell_type": "code",
   "execution_count": 6,
   "metadata": {},
   "outputs": [],
   "source": [
    "# source (27. 10. 2017) https://www.cnb.cz/cs/financni_trhy/devizovy_trh/kurzy_devizoveho_trhu/denni_kurz.jsp\n",
    "# dictionary of exchange rates to CZK\n",
    "currencies = {\n",
    "    'British pounds sterling (£)': 28.747,\n",
    "    'Canadian dollars (C$)': 17.017,\n",
    "    'U.S. dollars ($)': 21.779,\n",
    "    numpy.nan: 21.779,\n",
    "    'Euros (€)': 25.585,\n",
    "    'Brazilian reais (R$)': 6.730,\n",
    "    'Indian rupees (?)': 33.579 / 100,\n",
    "    'Polish zloty (zl)': 6.041,\n",
    "    'Swedish kroner (SEK)': 2.632,\n",
    "    'Russian rubles (?)': 37.768 / 100,\n",
    "    'Swiss francs': 21.915,\n",
    "    'Australian dollars (A$)': 16.785,\n",
    "    'Mexican pesos (MXN$)': 1.144,\n",
    "    'Japanese yen (¥)': 19.136,\n",
    "    'Chinese yuan renminbi (¥)': 3.283,\n",
    "    'Singapore dollars (S$)': 15.988,\n",
    "    'Bitcoin (btc)': 5862.19 * 21.779,\n",
    "    'South African rands (R)': 1.529\n",
    "}\n",
    "\n",
    "def convert_to_czk(df, currencies=currencies):\n",
    "    return df['Salary'] * df['Currency'].apply(currencies.get)"
   ]
  },
  {
   "cell_type": "code",
   "execution_count": 7,
   "metadata": {},
   "outputs": [],
   "source": [
    "# create new column\n",
    "all_df['SalaryCZK'] = convert_to_czk(all_df)"
   ]
  },
  {
   "cell_type": "markdown",
   "metadata": {},
   "source": [
    "## How many people filled the survery?"
   ]
  },
  {
   "cell_type": "code",
   "execution_count": 8,
   "metadata": {},
   "outputs": [
    {
     "name": "stdout",
     "output_type": "stream",
     "text": [
      "Number of people who filled the survey:\n",
      "51392\n"
     ]
    }
   ],
   "source": [
    "print('Number of people who filled the survey:')\n",
    "# Index.size return the number of elements in the underlying data\n",
    "print(all_df.index.size)"
   ]
  },
  {
   "cell_type": "markdown",
   "metadata": {},
   "source": [
    "## How many of them were from Czechia or Slovakia?\n",
    "\n",
    "Relevant column is *Country (Q110. In which country do you currently live?)*.\n",
    "Combo box was provided.\n",
    "Czech Republic and Slovak Republic are items of interest."
   ]
  },
  {
   "cell_type": "code",
   "execution_count": 9,
   "metadata": {},
   "outputs": [
    {
     "name": "stdout",
     "output_type": "stream",
     "text": [
      "Number of people from Czechia and Slovakia:\n",
      "581\n"
     ]
    }
   ],
   "source": [
    "cs_idx = ((all_df['Country'] == 'Czech Republic') | (all_df['Country'] == 'Slovak Republic'))\n",
    "cs_df = all_df[cs_idx]\n",
    "print('Number of people from Czechia and Slovakia:')\n",
    "print(cs_idx.sum())"
   ]
  },
  {
   "cell_type": "markdown",
   "metadata": {},
   "source": [
    "## What is programmers' annaul salary in Czechia and Slovakia according to the survey? In the world?\n",
    "\n",
    "Relevant column *Salary (Q320. What is your current annual salary, in \\[currency from Q310\\]?\n",
    "Please enter a whole number in the box below, without any punctuation. If you prefer not to\n",
    "answer, please leave the box empty / blank.)*.\n",
    "It is a 10-digit whole number.\n",
    "The person has to be professional software and currently employed.\n",
    "Currency is in column *Currency*."
   ]
  },
  {
   "cell_type": "code",
   "execution_count": 10,
   "metadata": {},
   "outputs": [
    {
     "data": {
      "text/html": [
       "<div>\n",
       "<style>\n",
       "    .dataframe thead tr:only-child th {\n",
       "        text-align: right;\n",
       "    }\n",
       "\n",
       "    .dataframe thead th {\n",
       "        text-align: left;\n",
       "    }\n",
       "\n",
       "    .dataframe tbody tr th {\n",
       "        vertical-align: top;\n",
       "    }\n",
       "</style>\n",
       "<table border=\"1\" class=\"dataframe\">\n",
       "  <thead>\n",
       "    <tr style=\"text-align: right;\">\n",
       "      <th></th>\n",
       "      <th>SalaryCZK</th>\n",
       "      <th>Currency</th>\n",
       "    </tr>\n",
       "    <tr>\n",
       "      <th>Respondent</th>\n",
       "      <th></th>\n",
       "      <th></th>\n",
       "    </tr>\n",
       "  </thead>\n",
       "  <tbody>\n",
       "    <tr>\n",
       "      <th>1484</th>\n",
       "      <td>276288.018794</td>\n",
       "      <td>NaN</td>\n",
       "    </tr>\n",
       "    <tr>\n",
       "      <th>1913</th>\n",
       "      <td>341096.319499</td>\n",
       "      <td>NaN</td>\n",
       "    </tr>\n",
       "    <tr>\n",
       "      <th>3367</th>\n",
       "      <td>409315.583399</td>\n",
       "      <td>NaN</td>\n",
       "    </tr>\n",
       "    <tr>\n",
       "      <th>3609</th>\n",
       "      <td>577725.806452</td>\n",
       "      <td>Euros (€)</td>\n",
       "    </tr>\n",
       "    <tr>\n",
       "      <th>3917</th>\n",
       "      <td>469007.439311</td>\n",
       "      <td>NaN</td>\n",
       "    </tr>\n",
       "  </tbody>\n",
       "</table>\n",
       "</div>"
      ],
      "text/plain": [
       "                SalaryCZK   Currency\n",
       "Respondent                          \n",
       "1484        276288.018794        NaN\n",
       "1913        341096.319499        NaN\n",
       "3367        409315.583399        NaN\n",
       "3609        577725.806452  Euros (€)\n",
       "3917        469007.439311        NaN"
      ]
     },
     "execution_count": 10,
     "metadata": {},
     "output_type": "execute_result"
    }
   ],
   "source": [
    "def notnull_salary(df):\n",
    "    return df.loc[df['SalaryCZK'].notnull(), ['SalaryCZK', 'Currency']]\n",
    "\n",
    "cs_salary = notnull_salary(cs_df)\n",
    "cs_salary.head()"
   ]
  },
  {
   "cell_type": "code",
   "execution_count": 11,
   "metadata": {},
   "outputs": [
    {
     "data": {
      "image/png": "[encoded data removed]",
      "text/plain": [
       "<matplotlib.figure.Figure at 0x7f2c7bd369b0>"
      ]
     },
     "metadata": {},
     "output_type": "display_data"
    }
   ],
   "source": [
    "ax = cs_salary.plot.box()\n",
    "ax.set_ylabel('Annual Salary (CZK)')\n",
    "ax.set_xticks([])\n",
    "_ = ax.set_title('Boxplot of Annual Salary in Czechia and Slovakia')"
   ]
  },
  {
   "cell_type": "code",
   "execution_count": 12,
   "metadata": {},
   "outputs": [
    {
     "data": {
      "image/png": "[encoded data removed]",
      "text/plain": [
       "<matplotlib.figure.Figure at 0x7f2c7bd36a58>"
      ]
     },
     "metadata": {},
     "output_type": "display_data"
    }
   ],
   "source": [
    "ax = cs_salary.plot.hist(rot=315)\n",
    "ax.set_title('Histogram of Annual Salary in Czechia and Slovakia')\n",
    "ax.legend_.remove()\n",
    "_ = ax.set_xlabel('Annual Salary (CZK)')"
   ]
  },
  {
   "cell_type": "code",
   "execution_count": 13,
   "metadata": {},
   "outputs": [
    {
     "data": {
      "text/html": [
       "<div>\n",
       "<style>\n",
       "    .dataframe thead tr:only-child th {\n",
       "        text-align: right;\n",
       "    }\n",
       "\n",
       "    .dataframe thead th {\n",
       "        text-align: left;\n",
       "    }\n",
       "\n",
       "    .dataframe tbody tr th {\n",
       "        vertical-align: top;\n",
       "    }\n",
       "</style>\n",
       "<table border=\"1\" class=\"dataframe\">\n",
       "  <thead>\n",
       "    <tr style=\"text-align: right;\">\n",
       "      <th></th>\n",
       "      <th>SalaryCZK</th>\n",
       "    </tr>\n",
       "  </thead>\n",
       "  <tbody>\n",
       "    <tr>\n",
       "      <th>count</th>\n",
       "      <td>1.020000e+02</td>\n",
       "    </tr>\n",
       "    <tr>\n",
       "      <th>mean</th>\n",
       "      <td>4.849463e+05</td>\n",
       "    </tr>\n",
       "    <tr>\n",
       "      <th>std</th>\n",
       "      <td>3.259255e+05</td>\n",
       "    </tr>\n",
       "    <tr>\n",
       "      <th>min</th>\n",
       "      <td>5.542815e+03</td>\n",
       "    </tr>\n",
       "    <tr>\n",
       "      <th>25%</th>\n",
       "      <td>2.754026e+05</td>\n",
       "    </tr>\n",
       "    <tr>\n",
       "      <th>50%</th>\n",
       "      <td>4.452096e+05</td>\n",
       "    </tr>\n",
       "    <tr>\n",
       "      <th>75%</th>\n",
       "      <td>5.906401e+05</td>\n",
       "    </tr>\n",
       "    <tr>\n",
       "      <th>max</th>\n",
       "      <td>1.534933e+06</td>\n",
       "    </tr>\n",
       "  </tbody>\n",
       "</table>\n",
       "</div>"
      ],
      "text/plain": [
       "          SalaryCZK\n",
       "count  1.020000e+02\n",
       "mean   4.849463e+05\n",
       "std    3.259255e+05\n",
       "min    5.542815e+03\n",
       "25%    2.754026e+05\n",
       "50%    4.452096e+05\n",
       "75%    5.906401e+05\n",
       "max    1.534933e+06"
      ]
     },
     "execution_count": 13,
     "metadata": {},
     "output_type": "execute_result"
    }
   ],
   "source": [
    "cs_salary.describe()"
   ]
  },
  {
   "cell_type": "code",
   "execution_count": 14,
   "metadata": {},
   "outputs": [
    {
     "name": "stdout",
     "output_type": "stream",
     "text": [
      "Average annual salary of programmers in Czechia and Slovakia:\n",
      "484946.312173 CZK\n"
     ]
    }
   ],
   "source": [
    "print('Average annual salary of programmers in Czechia and Slovakia:')\n",
    "print(cs_salary['SalaryCZK'].mean(), 'CZK')"
   ]
  },
  {
   "cell_type": "markdown",
   "metadata": {},
   "source": [
    "IMHO median is more robust statistic (resistant to outliers)."
   ]
  },
  {
   "cell_type": "code",
   "execution_count": 15,
   "metadata": {
    "scrolled": true
   },
   "outputs": [
    {
     "name": "stdout",
     "output_type": "stream",
     "text": [
      "Median annual salary of programmers in Czechia and Slovakia:\n",
      "445209.5923746009 CZK\n"
     ]
    }
   ],
   "source": [
    "print('Median annual salary of programmers in Czechia and Slovakia:')\n",
    "print(cs_salary['SalaryCZK'].median(), 'CZK')"
   ]
  },
  {
   "cell_type": "code",
   "execution_count": 16,
   "metadata": {},
   "outputs": [
    {
     "name": "stdout",
     "output_type": "stream",
     "text": [
      "Average annual salary of programmers in world:\n",
      "3180864.90974 CZK\n",
      "\n",
      "Median annual salary of programmers in world:\n",
      "1155451.6129032245 CZK\n"
     ]
    }
   ],
   "source": [
    "all_salary = notnull_salary(all_df)\n",
    "\n",
    "print('Average annual salary of programmers in world:')\n",
    "print(all_salary['SalaryCZK'].mean(), 'CZK\\n')\n",
    "print('Median annual salary of programmers in world:')\n",
    "print(all_salary['SalaryCZK'].median(), 'CZK')"
   ]
  },
  {
   "cell_type": "markdown",
   "metadata": {},
   "source": [
    "The gap between mean and median is more significant here because of huge outliers (see boxplot below)."
   ]
  },
  {
   "cell_type": "code",
   "execution_count": 17,
   "metadata": {
    "scrolled": false
   },
   "outputs": [
    {
     "data": {
      "image/png": "[encoded data removed]",
      "text/plain": [
       "<matplotlib.figure.Figure at 0x7f2c7bf7fa20>"
      ]
     },
     "metadata": {},
     "output_type": "display_data"
    }
   ],
   "source": [
    "ax = all_salary.plot.box()\n",
    "ax.set_ylabel('Annual Salary (CZK)')\n",
    "ax.set_xticks([])\n",
    "_ = ax.set_title('Boxplot of Annual Salaries in World')"
   ]
  },
  {
   "cell_type": "markdown",
   "metadata": {},
   "source": [
    "## Python Statistics\n",
    "\n",
    "Using a language means that the person was intensively working with it for the last year.\n",
    "\n",
    "1. How many people stated that they use Python?\n",
    "2. How many people from them want to continue using Python?\n",
    "3. How many people do not use Python but want to start using it?"
   ]
  },
  {
   "cell_type": "code",
   "execution_count": 18,
   "metadata": {},
   "outputs": [],
   "source": [
    "def contains_language(series, language):\n",
    "    # fillna so that return value can be used as index\n",
    "    return series.apply(lambda langs: False if langs is numpy.nan else language in langs)\n",
    "\n",
    "def have_worked_in(df, language):\n",
    "    return contains_language(df['HaveWorkedLanguage'], language)\n",
    "\n",
    "def want_work_in(df, language):\n",
    "    return contains_language(df['WantWorkLanguage'], language)\n",
    "\n",
    "def language_stats(df, language):\n",
    "    use_idx = have_worked_in(df, language)\n",
    "    use = use_idx.sum()\n",
    "    stick = want_work_in(df.loc[use_idx], language).sum()\n",
    "    want_idx = want_work_in(df, language)\n",
    "    want = ((want_idx ^ use_idx) & ~use_idx).sum()\n",
    "    return use, stick, want\n",
    "\n",
    "def print_language_stats(df, language):\n",
    "    use, stick, want = language_stats(df, language)\n",
    "    print(('Number of people in Czechia and Slovakia who use {}:\\n'\n",
    "           '{}\\n\\n'\n",
    "           'Number of people in Czechia and Slovakia from them who want to continue using {}:\\n'\n",
    "           '{}\\n\\n'\n",
    "           'Number of people in Czechia and Slovakia who don\\'t use {} but want to start:\\n'\n",
    "           '{}').format(language, use, language, stick, language, want))"
   ]
  },
  {
   "cell_type": "code",
   "execution_count": 19,
   "metadata": {},
   "outputs": [
    {
     "name": "stdout",
     "output_type": "stream",
     "text": [
      "Number of people in Czechia and Slovakia who use Python:\n",
      "129\n",
      "\n",
      "Number of people in Czechia and Slovakia from them who want to continue using Python:\n",
      "86\n",
      "\n",
      "Number of people in Czechia and Slovakia who don't use Python but want to start:\n",
      "48\n"
     ]
    }
   ],
   "source": [
    "print_language_stats(cs_df, 'Python')"
   ]
  },
  {
   "cell_type": "markdown",
   "metadata": {},
   "source": [
    "## Answer the last three questions for Java instead of Python."
   ]
  },
  {
   "cell_type": "code",
   "execution_count": 20,
   "metadata": {
    "scrolled": true
   },
   "outputs": [
    {
     "name": "stdout",
     "output_type": "stream",
     "text": [
      "Number of people in Czechia and Slovakia who use Java:\n",
      "171\n",
      "\n",
      "Number of people in Czechia and Slovakia from them who want to continue using Java:\n",
      "98\n",
      "\n",
      "Number of people in Czechia and Slovakia who don't use Java but want to start:\n",
      "23\n"
     ]
    }
   ],
   "source": [
    "print_language_stats(cs_df, 'Java')"
   ]
  },
  {
   "cell_type": "markdown",
   "metadata": {},
   "source": [
    "## Draw a plot showing average *monthly* salary for each programming language which people from Czechia and Slovakia stated."
   ]
  },
  {
   "cell_type": "code",
   "execution_count": 21,
   "metadata": {},
   "outputs": [
    {
     "data": {
      "image/png": "[encoded data removed]",
      "text/plain": [
       "<matplotlib.figure.Figure at 0x7f2c7acd2d30>"
      ]
     },
     "metadata": {},
     "output_type": "display_data"
    }
   ],
   "source": [
    "# get only relevant rows\n",
    "cs_relevant = cs_df[cs_df['HaveWorkedLanguage'].notnull() & cs_df['SalaryCZK'].notnull()]\n",
    "\n",
    "# create languages with id dataframe\n",
    "langs = cs_relevant['HaveWorkedLanguage'].apply(pandas.Series).stack()\n",
    "langs.index = langs.index.droplevel(level=1)\n",
    "langs = pandas.DataFrame(langs, columns=['Language'])\n",
    "# merge them back to get language and salary pair\n",
    "langs = langs.merge(cs_relevant[['SalaryCZK']], how='left', left_index=True, right_index=True)\n",
    "\n",
    "ax = langs.groupby('Language').mean().div(12).plot.bar()\n",
    "ax.set_title('Average Monthly Salary in Czechia and Slovakia by Language')\n",
    "ax.set_xlabel('Language')\n",
    "ax.legend_.remove()\n",
    "ax.grid()\n",
    "_ = ax.set_ylabel('Monthly Salary (CZK)')"
   ]
  }
 ],
 "metadata": {
  "kernelspec": {
   "display_name": "Python 3",
   "language": "python",
   "name": "python3"
  },
  "language_info": {
   "codemirror_mode": {
    "name": "ipython",
    "version": 3
   },
   "file_extension": ".py",
   "mimetype": "text/x-python",
   "name": "python",
   "nbconvert_exporter": "python",
   "pygments_lexer": "ipython3",
   "version": "3.6.3"
  }
 },
 "nbformat": 4,
 "nbformat_minor": 2
}
